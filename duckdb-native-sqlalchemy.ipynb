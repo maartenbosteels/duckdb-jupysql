{
 "cells": [
  {
   "cell_type": "code",
   "execution_count": 5,
   "metadata": {},
   "outputs": [],
   "source": [
    "# see https://jupysql.ploomber.io/en/latest/tutorials/duckdb-native-sqlalchemy.html\n",
    "\n",
    "import pandas as pd"
   ]
  },
  {
   "cell_type": "code",
   "execution_count": 6,
   "metadata": {},
   "outputs": [],
   "source": [
    "df = pd.DataFrame({\"x\": range(1_000_000)})"
   ]
  },
  {
   "cell_type": "markdown",
   "metadata": {},
   "source": [
    "## DuckDB + SQLALchemy"
   ]
  },
  {
   "cell_type": "code",
   "execution_count": 7,
   "metadata": {},
   "outputs": [],
   "source": [
    "%load_ext sql\n",
    "%config SqlMagic.autopandas = True"
   ]
  },
  {
   "cell_type": "code",
   "execution_count": 14,
   "metadata": {},
   "outputs": [],
   "source": [
    "%sql duckdb:// --alias duckdb-sqlalchemy"
   ]
  },
  {
   "cell_type": "code",
   "execution_count": 15,
   "metadata": {},
   "outputs": [],
   "source": [
    "%config SqlMagic.autopandas = True"
   ]
  },
  {
   "cell_type": "code",
   "execution_count": 16,
   "metadata": {},
   "outputs": [
    {
     "data": {
      "text/html": [
       "<span style=\"None\">Running query in &#x27;duckdb-sqlalchemy&#x27;</span>"
      ],
      "text/plain": [
       "Running query in 'duckdb-sqlalchemy'"
      ]
     },
     "metadata": {},
     "output_type": "display_data"
    },
    {
     "name": "stdout",
     "output_type": "stream",
     "text": [
      "CPU times: user 1.16 s, sys: 152 ms, total: 1.32 s\n",
      "Wall time: 3.22 s\n"
     ]
    }
   ],
   "source": [
    "%%time\n",
    "_ = %sql SELECT * FROM df   "
   ]
  },
  {
   "cell_type": "markdown",
   "metadata": {},
   "source": [
    "## DuckDB + native"
   ]
  },
  {
   "cell_type": "code",
   "execution_count": 17,
   "metadata": {},
   "outputs": [],
   "source": [
    "import duckdb\n",
    "\n",
    "conn = duckdb.connect()\n",
    "%sql conn --alias duckdb-native"
   ]
  },
  {
   "cell_type": "code",
   "execution_count": 18,
   "metadata": {},
   "outputs": [
    {
     "data": {
      "text/html": [
       "<span style=\"None\">Running query in &#x27;duckdb-native&#x27;</span>"
      ],
      "text/plain": [
       "Running query in 'duckdb-native'"
      ]
     },
     "metadata": {},
     "output_type": "display_data"
    },
    {
     "name": "stdout",
     "output_type": "stream",
     "text": [
      "CPU times: user 429 ms, sys: 113 ms, total: 542 ms\n",
      "Wall time: 2.51 s\n"
     ]
    }
   ],
   "source": [
    "%%time\n",
    "_ = %sql SELECT * FROM df"
   ]
  },
  {
   "cell_type": "markdown",
   "metadata": {},
   "source": [
    "## Performance comparison (polars)"
   ]
  },
  {
   "cell_type": "code",
   "execution_count": 22,
   "metadata": {},
   "outputs": [
    {
     "data": {
      "text/html": [
       "<span style=\"None\">Disabled &#x27;autopandas&#x27; since &#x27;autopolars&#x27; was enabled.</span>"
      ],
      "text/plain": [
       "Disabled 'autopandas' since 'autopolars' was enabled."
      ]
     },
     "metadata": {},
     "output_type": "display_data"
    },
    {
     "data": {
      "text/html": [
       "<span style=\"None\">Switching to connection duckdb-sqlalchemy</span>"
      ],
      "text/plain": [
       "Switching to connection duckdb-sqlalchemy"
      ]
     },
     "metadata": {},
     "output_type": "display_data"
    }
   ],
   "source": [
    "%config SqlMagic.autopolars = True\n",
    "%sql duckdb-sqlalchemy"
   ]
  },
  {
   "cell_type": "markdown",
   "metadata": {},
   "source": [
    "### DuckDB + SQLAlchemy"
   ]
  },
  {
   "cell_type": "code",
   "execution_count": 25,
   "metadata": {},
   "outputs": [
    {
     "data": {
      "text/html": [
       "<span style=\"None\">Running query in &#x27;duckdb-sqlalchemy&#x27;</span>"
      ],
      "text/plain": [
       "Running query in 'duckdb-sqlalchemy'"
      ]
     },
     "metadata": {},
     "output_type": "display_data"
    },
    {
     "ename": "ValueError",
     "evalue": "DataFrame constructor called with unsupported type; got <class 'pyarrow.lib.Table'>\nIf you need help solving this issue, send us a message: https://ploomber.io/community",
     "output_type": "error",
     "traceback": [
      "\u001b[0;31m---------------------------------------------------------------------------\u001b[0m",
      "\u001b[0;31mValueError\u001b[0m                                Traceback (most recent call last)",
      "File \u001b[0;32m<timed exec>:1\u001b[0m\n",
      "File \u001b[0;32m~/.local/share/virtualenvs/duckdb-jupysql-h-_umBT2/lib/python3.11/site-packages/IPython/core/interactiveshell.py:2417\u001b[0m, in \u001b[0;36mInteractiveShell.run_line_magic\u001b[0;34m(self, magic_name, line, _stack_depth)\u001b[0m\n\u001b[1;32m   2415\u001b[0m     kwargs[\u001b[39m'\u001b[39m\u001b[39mlocal_ns\u001b[39m\u001b[39m'\u001b[39m] \u001b[39m=\u001b[39m \u001b[39mself\u001b[39m\u001b[39m.\u001b[39mget_local_scope(stack_depth)\n\u001b[1;32m   2416\u001b[0m \u001b[39mwith\u001b[39;00m \u001b[39mself\u001b[39m\u001b[39m.\u001b[39mbuiltin_trap:\n\u001b[0;32m-> 2417\u001b[0m     result \u001b[39m=\u001b[39m fn(\u001b[39m*\u001b[39;49margs, \u001b[39m*\u001b[39;49m\u001b[39m*\u001b[39;49mkwargs)\n\u001b[1;32m   2419\u001b[0m \u001b[39m# The code below prevents the output from being displayed\u001b[39;00m\n\u001b[1;32m   2420\u001b[0m \u001b[39m# when using magics with decodator @output_can_be_silenced\u001b[39;00m\n\u001b[1;32m   2421\u001b[0m \u001b[39m# when the last Python token in the expression is a ';'.\u001b[39;00m\n\u001b[1;32m   2422\u001b[0m \u001b[39mif\u001b[39;00m \u001b[39mgetattr\u001b[39m(fn, magic\u001b[39m.\u001b[39mMAGIC_OUTPUT_CAN_BE_SILENCED, \u001b[39mFalse\u001b[39;00m):\n",
      "File \u001b[0;32m~/.local/share/virtualenvs/duckdb-jupysql-h-_umBT2/lib/python3.11/site-packages/sql/magic.py:370\u001b[0m, in \u001b[0;36mSqlMagic.execute\u001b[0;34m(self, line, cell, local_ns)\u001b[0m\n\u001b[1;32m    262\u001b[0m \u001b[39m@no_var_expand\u001b[39m\n\u001b[1;32m    263\u001b[0m \u001b[39m@needs_local_scope\u001b[39m\n\u001b[1;32m    264\u001b[0m \u001b[39m@line_magic\u001b[39m(\u001b[39m\"\u001b[39m\u001b[39msql\u001b[39m\u001b[39m\"\u001b[39m)\n\u001b[0;32m   (...)\u001b[0m\n\u001b[1;32m    342\u001b[0m )\n\u001b[1;32m    343\u001b[0m \u001b[39mdef\u001b[39;00m \u001b[39mexecute\u001b[39m(\u001b[39mself\u001b[39m, line\u001b[39m=\u001b[39m\u001b[39m\"\u001b[39m\u001b[39m\"\u001b[39m, cell\u001b[39m=\u001b[39m\u001b[39m\"\u001b[39m\u001b[39m\"\u001b[39m, local_ns\u001b[39m=\u001b[39m\u001b[39mNone\u001b[39;00m):\n\u001b[1;32m    344\u001b[0m \u001b[39m    \u001b[39m\u001b[39m\"\"\"\u001b[39;00m\n\u001b[1;32m    345\u001b[0m \u001b[39m    Runs SQL statement against a database, specified by\u001b[39;00m\n\u001b[1;32m    346\u001b[0m \u001b[39m    SQLAlchemy connect string.\u001b[39;00m\n\u001b[0;32m   (...)\u001b[0m\n\u001b[1;32m    368\u001b[0m \n\u001b[1;32m    369\u001b[0m \u001b[39m    \"\"\"\u001b[39;00m\n\u001b[0;32m--> 370\u001b[0m     \u001b[39mreturn\u001b[39;00m \u001b[39mself\u001b[39;49m\u001b[39m.\u001b[39;49m_execute(\n\u001b[1;32m    371\u001b[0m         line\u001b[39m=\u001b[39;49mline, cell\u001b[39m=\u001b[39;49mcell, local_ns\u001b[39m=\u001b[39;49mlocal_ns, is_interactive_mode\u001b[39m=\u001b[39;49m\u001b[39mFalse\u001b[39;49;00m\n\u001b[1;32m    372\u001b[0m     )\n",
      "File \u001b[0;32m~/.local/share/virtualenvs/duckdb-jupysql-h-_umBT2/lib/python3.11/site-packages/ploomber_core/telemetry/telemetry.py:750\u001b[0m, in \u001b[0;36mTelemetry.log_call.<locals>._log_call.<locals>.wrapper\u001b[0;34m(*args, **kwargs)\u001b[0m\n\u001b[1;32m    748\u001b[0m     injected_args \u001b[39m=\u001b[39m \u001b[39mlist\u001b[39m(args)\n\u001b[1;32m    749\u001b[0m     injected_args\u001b[39m.\u001b[39minsert(\u001b[39m1\u001b[39m, _payload)\n\u001b[0;32m--> 750\u001b[0m     result \u001b[39m=\u001b[39m func(\u001b[39m*\u001b[39;49minjected_args, \u001b[39m*\u001b[39;49m\u001b[39m*\u001b[39;49mkwargs)\n\u001b[1;32m    751\u001b[0m \u001b[39melse\u001b[39;00m:\n\u001b[1;32m    752\u001b[0m     result \u001b[39m=\u001b[39m func(_payload, \u001b[39m*\u001b[39margs, \u001b[39m*\u001b[39m\u001b[39m*\u001b[39mkwargs)\n",
      "File \u001b[0;32m~/.local/share/virtualenvs/duckdb-jupysql-h-_umBT2/lib/python3.11/site-packages/ploomber_core/exceptions.py:109\u001b[0m, in \u001b[0;36mmodify_exceptions.<locals>.wrapper\u001b[0;34m(*args, **kwargs)\u001b[0m\n\u001b[1;32m    106\u001b[0m \u001b[39m@wraps\u001b[39m(fn)\n\u001b[1;32m    107\u001b[0m \u001b[39mdef\u001b[39;00m \u001b[39mwrapper\u001b[39m(\u001b[39m*\u001b[39margs, \u001b[39m*\u001b[39m\u001b[39m*\u001b[39mkwargs):\n\u001b[1;32m    108\u001b[0m     \u001b[39mtry\u001b[39;00m:\n\u001b[0;32m--> 109\u001b[0m         \u001b[39mreturn\u001b[39;00m fn(\u001b[39m*\u001b[39;49margs, \u001b[39m*\u001b[39;49m\u001b[39m*\u001b[39;49mkwargs)\n\u001b[1;32m    110\u001b[0m     \u001b[39mexcept\u001b[39;00m (\u001b[39mValueError\u001b[39;00m, \u001b[39mTypeError\u001b[39;00m) \u001b[39mas\u001b[39;00m e:\n\u001b[1;32m    111\u001b[0m         _add_community_link(e)\n",
      "File \u001b[0;32m~/.local/share/virtualenvs/duckdb-jupysql-h-_umBT2/lib/python3.11/site-packages/sql/magic.py:586\u001b[0m, in \u001b[0;36mSqlMagic._execute\u001b[0;34m(self, payload, line, cell, local_ns, is_interactive_mode)\u001b[0m\n\u001b[1;32m    584\u001b[0m     \u001b[39mself\u001b[39m\u001b[39m.\u001b[39m_error_handling(e, command\u001b[39m.\u001b[39msql)\n\u001b[1;32m    585\u001b[0m \u001b[39melse\u001b[39;00m:\n\u001b[0;32m--> 586\u001b[0m     \u001b[39mraise\u001b[39;00m e\n",
      "File \u001b[0;32m~/.local/share/virtualenvs/duckdb-jupysql-h-_umBT2/lib/python3.11/site-packages/sql/magic.py:532\u001b[0m, in \u001b[0;36mSqlMagic._execute\u001b[0;34m(self, payload, line, cell, local_ns, is_interactive_mode)\u001b[0m\n\u001b[1;32m    529\u001b[0m     \u001b[39mreturn\u001b[39;00m\n\u001b[1;32m    531\u001b[0m \u001b[39mtry\u001b[39;00m:\n\u001b[0;32m--> 532\u001b[0m     result \u001b[39m=\u001b[39m run_statements(\n\u001b[1;32m    533\u001b[0m         conn,\n\u001b[1;32m    534\u001b[0m         command\u001b[39m.\u001b[39;49msql,\n\u001b[1;32m    535\u001b[0m         \u001b[39mself\u001b[39;49m,\n\u001b[1;32m    536\u001b[0m         parameters\u001b[39m=\u001b[39;49muser_ns \u001b[39mif\u001b[39;49;00m \u001b[39mself\u001b[39;49m\u001b[39m.\u001b[39;49mnamed_parameters \u001b[39melse\u001b[39;49;00m \u001b[39mNone\u001b[39;49;00m,\n\u001b[1;32m    537\u001b[0m     )\n\u001b[1;32m    539\u001b[0m     \u001b[39mif\u001b[39;00m (\n\u001b[1;32m    540\u001b[0m         result \u001b[39mis\u001b[39;00m \u001b[39mnot\u001b[39;00m \u001b[39mNone\u001b[39;00m\n\u001b[1;32m    541\u001b[0m         \u001b[39mand\u001b[39;00m \u001b[39mnot\u001b[39;00m \u001b[39misinstance\u001b[39m(result, \u001b[39mstr\u001b[39m)\n\u001b[0;32m   (...)\u001b[0m\n\u001b[1;32m    544\u001b[0m         \u001b[39m# Instead of returning values, set variables directly in the\u001b[39;00m\n\u001b[1;32m    545\u001b[0m         \u001b[39m# users namespace. Variable names given by column names\u001b[39;00m\n\u001b[1;32m    547\u001b[0m         \u001b[39mif\u001b[39;00m \u001b[39mself\u001b[39m\u001b[39m.\u001b[39mautopandas \u001b[39mor\u001b[39;00m \u001b[39mself\u001b[39m\u001b[39m.\u001b[39mautopolars:\n",
      "File \u001b[0;32m~/.local/share/virtualenvs/duckdb-jupysql-h-_umBT2/lib/python3.11/site-packages/sql/run/run.py:46\u001b[0m, in \u001b[0;36mrun_statements\u001b[0;34m(conn, sql, config, parameters)\u001b[0m\n\u001b[1;32m     43\u001b[0m         \u001b[39mif\u001b[39;00m config\u001b[39m.\u001b[39mfeedback \u001b[39mand\u001b[39;00m \u001b[39mhasattr\u001b[39m(result, \u001b[39m\"\u001b[39m\u001b[39mrowcount\u001b[39m\u001b[39m\"\u001b[39m) \u001b[39mand\u001b[39;00m result\u001b[39m.\u001b[39mrowcount \u001b[39m>\u001b[39m \u001b[39m0\u001b[39m:\n\u001b[1;32m     44\u001b[0m             display\u001b[39m.\u001b[39mmessage_success(\u001b[39mf\u001b[39m\u001b[39m\"\u001b[39m\u001b[39m{\u001b[39;00mresult\u001b[39m.\u001b[39mrowcount\u001b[39m}\u001b[39;00m\u001b[39m rows affected.\u001b[39m\u001b[39m\"\u001b[39m)\n\u001b[0;32m---> 46\u001b[0m \u001b[39mreturn\u001b[39;00m select_df_type(ResultSet(result, config, statement, conn), config)\n",
      "File \u001b[0;32m~/.local/share/virtualenvs/duckdb-jupysql-h-_umBT2/lib/python3.11/site-packages/sql/run/run.py:62\u001b[0m, in \u001b[0;36mselect_df_type\u001b[0;34m(resultset, config)\u001b[0m\n\u001b[1;32m     60\u001b[0m     \u001b[39mreturn\u001b[39;00m resultset\u001b[39m.\u001b[39mDataFrame()\n\u001b[1;32m     61\u001b[0m \u001b[39melif\u001b[39;00m config\u001b[39m.\u001b[39mautopolars:\n\u001b[0;32m---> 62\u001b[0m     \u001b[39mreturn\u001b[39;00m resultset\u001b[39m.\u001b[39;49mPolarsDataFrame(\u001b[39m*\u001b[39;49m\u001b[39m*\u001b[39;49mconfig\u001b[39m.\u001b[39;49mpolars_dataframe_kwargs)\n\u001b[1;32m     63\u001b[0m \u001b[39melse\u001b[39;00m:\n\u001b[1;32m     64\u001b[0m     \u001b[39mreturn\u001b[39;00m resultset\n",
      "File \u001b[0;32m~/.local/share/virtualenvs/duckdb-jupysql-h-_umBT2/lib/python3.11/site-packages/ploomber_core/telemetry/telemetry.py:754\u001b[0m, in \u001b[0;36mTelemetry.log_call.<locals>._log_call.<locals>.wrapper\u001b[0;34m(*args, **kwargs)\u001b[0m\n\u001b[1;32m    752\u001b[0m             result \u001b[39m=\u001b[39m func(_payload, \u001b[39m*\u001b[39margs, \u001b[39m*\u001b[39m\u001b[39m*\u001b[39mkwargs)\n\u001b[1;32m    753\u001b[0m     \u001b[39melse\u001b[39;00m:\n\u001b[0;32m--> 754\u001b[0m         result \u001b[39m=\u001b[39m func(\u001b[39m*\u001b[39;49margs, \u001b[39m*\u001b[39;49m\u001b[39m*\u001b[39;49mkwargs)\n\u001b[1;32m    755\u001b[0m \u001b[39mexcept\u001b[39;00m \u001b[39mException\u001b[39;00m \u001b[39mas\u001b[39;00m e:\n\u001b[1;32m    756\u001b[0m     metadata_error \u001b[39m=\u001b[39m {\n\u001b[1;32m    757\u001b[0m         \u001b[39m# can we log None to posthog?\u001b[39;00m\n\u001b[1;32m    758\u001b[0m         \u001b[39m\"\u001b[39m\u001b[39mtype\u001b[39m\u001b[39m\"\u001b[39m: \u001b[39mgetattr\u001b[39m(e, \u001b[39m\"\u001b[39m\u001b[39mtype_\u001b[39m\u001b[39m\"\u001b[39m, \u001b[39mNone\u001b[39;00m),\n\u001b[0;32m   (...)\u001b[0m\n\u001b[1;32m    761\u001b[0m         \u001b[39m*\u001b[39m\u001b[39m*\u001b[39m_payload,\n\u001b[1;32m    762\u001b[0m     }\n",
      "File \u001b[0;32m~/.local/share/virtualenvs/duckdb-jupysql-h-_umBT2/lib/python3.11/site-packages/sql/run/resultset.py:272\u001b[0m, in \u001b[0;36mResultSet.PolarsDataFrame\u001b[0;34m(self, **polars_dataframe_kwargs)\u001b[0m\n\u001b[1;32m    269\u001b[0m \u001b[39mimport\u001b[39;00m \u001b[39mpolars\u001b[39;00m \u001b[39mas\u001b[39;00m \u001b[39mpl\u001b[39;00m\n\u001b[1;32m    271\u001b[0m polars_dataframe_kwargs[\u001b[39m\"\u001b[39m\u001b[39mschema\u001b[39m\u001b[39m\"\u001b[39m] \u001b[39m=\u001b[39m \u001b[39mself\u001b[39m\u001b[39m.\u001b[39mkeys\n\u001b[0;32m--> 272\u001b[0m \u001b[39mreturn\u001b[39;00m _convert_to_data_frame(\u001b[39mself\u001b[39;49m, \u001b[39m\"\u001b[39;49m\u001b[39mpl\u001b[39;49m\u001b[39m\"\u001b[39;49m, pl\u001b[39m.\u001b[39;49mDataFrame, polars_dataframe_kwargs)\n",
      "File \u001b[0;32m~/.local/share/virtualenvs/duckdb-jupysql-h-_umBT2/lib/python3.11/site-packages/sql/run/resultset.py:489\u001b[0m, in \u001b[0;36m_convert_to_data_frame\u001b[0;34m(result_set, converter_name, constructor, constructor_kwargs)\u001b[0m\n\u001b[1;32m    486\u001b[0m     \u001b[39mif\u001b[39;00m is_select:\n\u001b[1;32m    487\u001b[0m         native_connection\u001b[39m.\u001b[39mexecute(result_set\u001b[39m.\u001b[39m_statement)\n\u001b[0;32m--> 489\u001b[0m     \u001b[39mreturn\u001b[39;00m \u001b[39mgetattr\u001b[39;49m(native_connection, converter_name)()\n\u001b[1;32m    490\u001b[0m \u001b[39melse\u001b[39;00m:\n\u001b[1;32m    491\u001b[0m     frame \u001b[39m=\u001b[39m constructor(\n\u001b[1;32m    492\u001b[0m         (\u001b[39mtuple\u001b[39m(row) \u001b[39mfor\u001b[39;00m row \u001b[39min\u001b[39;00m result_set),\n\u001b[1;32m    493\u001b[0m         \u001b[39m*\u001b[39m\u001b[39m*\u001b[39mconstructor_kwargs,\n\u001b[1;32m    494\u001b[0m     )\n",
      "File \u001b[0;32m~/.local/share/virtualenvs/duckdb-jupysql-h-_umBT2/lib/python3.11/site-packages/polars/dataframe/frame.py:402\u001b[0m, in \u001b[0;36mDataFrame.__init__\u001b[0;34m(self, data, schema, schema_overrides, orient, infer_schema_length, nan_to_null)\u001b[0m\n\u001b[1;32m    394\u001b[0m     \u001b[39mself\u001b[39m\u001b[39m.\u001b[39m_df \u001b[39m=\u001b[39m iterable_to_pydf(\n\u001b[1;32m    395\u001b[0m         data,\n\u001b[1;32m    396\u001b[0m         schema\u001b[39m=\u001b[39mschema,\n\u001b[0;32m   (...)\u001b[0m\n\u001b[1;32m    399\u001b[0m         infer_schema_length\u001b[39m=\u001b[39minfer_schema_length,\n\u001b[1;32m    400\u001b[0m     )\n\u001b[1;32m    401\u001b[0m \u001b[39melse\u001b[39;00m:\n\u001b[0;32m--> 402\u001b[0m     \u001b[39mraise\u001b[39;00m \u001b[39mValueError\u001b[39;00m(\n\u001b[1;32m    403\u001b[0m         \u001b[39mf\u001b[39m\u001b[39m\"\u001b[39m\u001b[39mDataFrame constructor called with unsupported type; got \u001b[39m\u001b[39m{\u001b[39;00m\u001b[39mtype\u001b[39m(data)\u001b[39m}\u001b[39;00m\u001b[39m\"\u001b[39m\n\u001b[1;32m    404\u001b[0m     )\n",
      "\u001b[0;31mValueError\u001b[0m: DataFrame constructor called with unsupported type; got <class 'pyarrow.lib.Table'>\nIf you need help solving this issue, send us a message: https://ploomber.io/community"
     ]
    }
   ],
   "source": [
    "%%time\n",
    "_ = %sql SELECT * FROM df   "
   ]
  },
  {
   "cell_type": "markdown",
   "metadata": {},
   "source": [
    "## Polars with DuckDB + native"
   ]
  },
  {
   "cell_type": "code",
   "execution_count": null,
   "metadata": {},
   "outputs": [],
   "source": [
    "%sql duckdb-native"
   ]
  },
  {
   "cell_type": "code",
   "execution_count": null,
   "metadata": {},
   "outputs": [],
   "source": [
    "%%time\n",
    "_ = %sql SELECT * FROM df"
   ]
  },
  {
   "cell_type": "markdown",
   "metadata": {},
   "source": [
    "## No jupysql, just duckdb"
   ]
  },
  {
   "cell_type": "code",
   "execution_count": 21,
   "metadata": {},
   "outputs": [
    {
     "name": "stdout",
     "output_type": "stream",
     "text": [
      "CPU times: user 4.76 ms, sys: 1.47 ms, total: 6.23 ms\n",
      "Wall time: 3.77 ms\n"
     ]
    },
    {
     "data": {
      "text/plain": [
       "(1000000, 1)"
      ]
     },
     "execution_count": 21,
     "metadata": {},
     "output_type": "execute_result"
    }
   ],
   "source": [
    "%%time\n",
    "df2 = conn.sql(\"SELECT * FROM df\")\n",
    "df2.shape"
   ]
  },
  {
   "cell_type": "code",
   "execution_count": null,
   "metadata": {},
   "outputs": [],
   "source": []
  }
 ],
 "metadata": {
  "kernelspec": {
   "display_name": "mercator_smtp_migratie-Z84HtDnn",
   "language": "python",
   "name": "python3"
  },
  "language_info": {
   "codemirror_mode": {
    "name": "ipython",
    "version": 3
   },
   "file_extension": ".py",
   "mimetype": "text/x-python",
   "name": "python",
   "nbconvert_exporter": "python",
   "pygments_lexer": "ipython3",
   "version": "3.11.1"
  },
  "orig_nbformat": 4
 },
 "nbformat": 4,
 "nbformat_minor": 2
}
